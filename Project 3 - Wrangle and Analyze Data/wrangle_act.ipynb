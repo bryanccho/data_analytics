{
 "cells": [
  {
   "cell_type": "markdown",
   "metadata": {},
   "source": [
    "## Importing Functions"
   ]
  },
  {
   "cell_type": "code",
   "execution_count": 1,
   "metadata": {},
   "outputs": [],
   "source": [
    "import pandas as pd\n",
    "import requests\n",
    "import tweepy\n",
    "from bs4 import BeautifulSoup\n",
    "import os\n",
    "import json\n",
    "import matplotlib.pyplot as plt\n",
    "import numpy as np"
   ]
  },
  {
   "cell_type": "markdown",
   "metadata": {},
   "source": [
    "## Gathering Data"
   ]
  },
  {
   "cell_type": "code",
   "execution_count": 2,
   "metadata": {},
   "outputs": [],
   "source": [
    "wrt_df = pd.read_csv('twitter-archive-enhanced.csv')"
   ]
  },
  {
   "cell_type": "code",
   "execution_count": 3,
   "metadata": {},
   "outputs": [],
   "source": [
    "url = 'https://d17h27t6h515a5.cloudfront.net/topher/2017/August/599fd2ad_image-predictions/image-predictions.tsv'\n",
    "response = requests.get(url)\n",
    "\n",
    "folder_name = 'data_files'\n",
    "if not os.path.exists(folder_name):\n",
    "    os.makedirs(folder_name)\n",
    "\n",
    "with open(os.path.join(folder_name, url.split('/')[-1]), mode = 'wb') as file:\n",
    "    file.write(response.content)\n",
    "    \n",
    "image_df = pd.read_csv('data_files/image-predictions.tsv', sep='\\t')"
   ]
  },
  {
   "cell_type": "code",
   "execution_count": 4,
   "metadata": {},
   "outputs": [],
   "source": [
    "# consumer_key = 'SECRET'\n",
    "# consumer_secret = 'SECRET'\n",
    "# access_token = 'SECRET'\n",
    "# access_secret = 'SECRET'\n",
    "\n",
    "# auth = tweepy.OAuthHandler(consumer_key, consumer_secret)\n",
    "# auth.set_access_token(access_token, access_secret)\n",
    "\n",
    "# api = tweepy.API(auth, wait_on_rate_limit=True)\n",
    "\n",
    "# with open('tweet_json.txt', 'w') as outfile:\n",
    "#     for id in wrt_df.tweet_id:\n",
    "#         try:\n",
    "#             tweet = api.get_status(id, tweet_mode='extended')\n",
    "#             print('Success')\n",
    "#             json.dump(tweet._json, outfile)\n",
    "#             outfile.write('\\n')\n",
    "#         except:\n",
    "#             print('Failed')\n",
    "#             pass"
   ]
  },
  {
   "cell_type": "code",
   "execution_count": 5,
   "metadata": {},
   "outputs": [],
   "source": [
    "tweets_df = pd.DataFrame(columns=['tweet_id', 'retweets', 'favorites'])\n",
    "with open('tweet_json.txt') as json_file:\n",
    "    for line in json_file:\n",
    "        status = json.loads(line)\n",
    "        tweet_id = status['id_str']\n",
    "        retweet_count = status['retweet_count']\n",
    "        favorite_count = status['favorite_count']\n",
    "        tweets_df = tweets_df.append(pd.DataFrame([[tweet_id, retweet_count, favorite_count]], columns=['tweet_id', 'retweets', 'favorites']))\n",
    "\n",
    "tweets_df = tweets_df.reset_index(drop=True)"
   ]
  },
  {
   "cell_type": "markdown",
   "metadata": {},
   "source": [
    "## Assessing"
   ]
  },
  {
   "cell_type": "code",
   "execution_count": 6,
   "metadata": {},
   "outputs": [
    {
     "data": {
      "text/html": [
       "<div>\n",
       "<style scoped>\n",
       "    .dataframe tbody tr th:only-of-type {\n",
       "        vertical-align: middle;\n",
       "    }\n",
       "\n",
       "    .dataframe tbody tr th {\n",
       "        vertical-align: top;\n",
       "    }\n",
       "\n",
       "    .dataframe thead th {\n",
       "        text-align: right;\n",
       "    }\n",
       "</style>\n",
       "<table border=\"1\" class=\"dataframe\">\n",
       "  <thead>\n",
       "    <tr style=\"text-align: right;\">\n",
       "      <th></th>\n",
       "      <th>tweet_id</th>\n",
       "      <th>in_reply_to_status_id</th>\n",
       "      <th>in_reply_to_user_id</th>\n",
       "      <th>timestamp</th>\n",
       "      <th>source</th>\n",
       "      <th>text</th>\n",
       "      <th>retweeted_status_id</th>\n",
       "      <th>retweeted_status_user_id</th>\n",
       "      <th>retweeted_status_timestamp</th>\n",
       "      <th>expanded_urls</th>\n",
       "      <th>rating_numerator</th>\n",
       "      <th>rating_denominator</th>\n",
       "      <th>name</th>\n",
       "      <th>doggo</th>\n",
       "      <th>floofer</th>\n",
       "      <th>pupper</th>\n",
       "      <th>puppo</th>\n",
       "    </tr>\n",
       "  </thead>\n",
       "  <tbody>\n",
       "    <tr>\n",
       "      <th>921</th>\n",
       "      <td>756288534030475264</td>\n",
       "      <td>NaN</td>\n",
       "      <td>NaN</td>\n",
       "      <td>2016-07-22 00:43:32 +0000</td>\n",
       "      <td>&lt;a href=\"http://twitter.com/download/iphone\" r...</td>\n",
       "      <td>Here's a heartwarming scene of a single father...</td>\n",
       "      <td>NaN</td>\n",
       "      <td>NaN</td>\n",
       "      <td>NaN</td>\n",
       "      <td>https://twitter.com/dog_rates/status/756288534...</td>\n",
       "      <td>12</td>\n",
       "      <td>10</td>\n",
       "      <td>None</td>\n",
       "      <td>None</td>\n",
       "      <td>None</td>\n",
       "      <td>None</td>\n",
       "      <td>None</td>\n",
       "    </tr>\n",
       "    <tr>\n",
       "      <th>1938</th>\n",
       "      <td>673906403526995968</td>\n",
       "      <td>NaN</td>\n",
       "      <td>NaN</td>\n",
       "      <td>2015-12-07 16:46:21 +0000</td>\n",
       "      <td>&lt;a href=\"http://twitter.com/download/iphone\" r...</td>\n",
       "      <td>Guys I'm getting real tired of this. We only r...</td>\n",
       "      <td>NaN</td>\n",
       "      <td>NaN</td>\n",
       "      <td>NaN</td>\n",
       "      <td>https://twitter.com/dog_rates/status/673906403...</td>\n",
       "      <td>3</td>\n",
       "      <td>10</td>\n",
       "      <td>None</td>\n",
       "      <td>None</td>\n",
       "      <td>None</td>\n",
       "      <td>None</td>\n",
       "      <td>None</td>\n",
       "    </tr>\n",
       "    <tr>\n",
       "      <th>1379</th>\n",
       "      <td>701545186879471618</td>\n",
       "      <td>NaN</td>\n",
       "      <td>NaN</td>\n",
       "      <td>2016-02-21 23:13:01 +0000</td>\n",
       "      <td>&lt;a href=\"http://twitter.com/download/iphone\" r...</td>\n",
       "      <td>Meet Millie. She's practicing her dive form fo...</td>\n",
       "      <td>NaN</td>\n",
       "      <td>NaN</td>\n",
       "      <td>NaN</td>\n",
       "      <td>https://twitter.com/dog_rates/status/701545186...</td>\n",
       "      <td>10</td>\n",
       "      <td>10</td>\n",
       "      <td>Millie</td>\n",
       "      <td>None</td>\n",
       "      <td>None</td>\n",
       "      <td>pupper</td>\n",
       "      <td>None</td>\n",
       "    </tr>\n",
       "    <tr>\n",
       "      <th>774</th>\n",
       "      <td>776218204058357768</td>\n",
       "      <td>NaN</td>\n",
       "      <td>NaN</td>\n",
       "      <td>2016-09-15 00:36:55 +0000</td>\n",
       "      <td>&lt;a href=\"http://twitter.com/download/iphone\" r...</td>\n",
       "      <td>Atlas rolled around in some chalk and now he's...</td>\n",
       "      <td>NaN</td>\n",
       "      <td>NaN</td>\n",
       "      <td>NaN</td>\n",
       "      <td>https://twitter.com/dog_rates/status/776218204...</td>\n",
       "      <td>13</td>\n",
       "      <td>10</td>\n",
       "      <td>None</td>\n",
       "      <td>None</td>\n",
       "      <td>floofer</td>\n",
       "      <td>None</td>\n",
       "      <td>None</td>\n",
       "    </tr>\n",
       "    <tr>\n",
       "      <th>1451</th>\n",
       "      <td>695794761660297217</td>\n",
       "      <td>NaN</td>\n",
       "      <td>NaN</td>\n",
       "      <td>2016-02-06 02:22:53 +0000</td>\n",
       "      <td>&lt;a href=\"http://twitter.com/download/iphone\" r...</td>\n",
       "      <td>This is Wyatt. His throne is modeled after him...</td>\n",
       "      <td>NaN</td>\n",
       "      <td>NaN</td>\n",
       "      <td>NaN</td>\n",
       "      <td>https://twitter.com/dog_rates/status/695794761...</td>\n",
       "      <td>13</td>\n",
       "      <td>10</td>\n",
       "      <td>Wyatt</td>\n",
       "      <td>None</td>\n",
       "      <td>None</td>\n",
       "      <td>None</td>\n",
       "      <td>None</td>\n",
       "    </tr>\n",
       "  </tbody>\n",
       "</table>\n",
       "</div>"
      ],
      "text/plain": [
       "                tweet_id  in_reply_to_status_id  in_reply_to_user_id  \\\n",
       "921   756288534030475264                    NaN                  NaN   \n",
       "1938  673906403526995968                    NaN                  NaN   \n",
       "1379  701545186879471618                    NaN                  NaN   \n",
       "774   776218204058357768                    NaN                  NaN   \n",
       "1451  695794761660297217                    NaN                  NaN   \n",
       "\n",
       "                      timestamp  \\\n",
       "921   2016-07-22 00:43:32 +0000   \n",
       "1938  2015-12-07 16:46:21 +0000   \n",
       "1379  2016-02-21 23:13:01 +0000   \n",
       "774   2016-09-15 00:36:55 +0000   \n",
       "1451  2016-02-06 02:22:53 +0000   \n",
       "\n",
       "                                                 source  \\\n",
       "921   <a href=\"http://twitter.com/download/iphone\" r...   \n",
       "1938  <a href=\"http://twitter.com/download/iphone\" r...   \n",
       "1379  <a href=\"http://twitter.com/download/iphone\" r...   \n",
       "774   <a href=\"http://twitter.com/download/iphone\" r...   \n",
       "1451  <a href=\"http://twitter.com/download/iphone\" r...   \n",
       "\n",
       "                                                   text  retweeted_status_id  \\\n",
       "921   Here's a heartwarming scene of a single father...                  NaN   \n",
       "1938  Guys I'm getting real tired of this. We only r...                  NaN   \n",
       "1379  Meet Millie. She's practicing her dive form fo...                  NaN   \n",
       "774   Atlas rolled around in some chalk and now he's...                  NaN   \n",
       "1451  This is Wyatt. His throne is modeled after him...                  NaN   \n",
       "\n",
       "      retweeted_status_user_id retweeted_status_timestamp  \\\n",
       "921                        NaN                        NaN   \n",
       "1938                       NaN                        NaN   \n",
       "1379                       NaN                        NaN   \n",
       "774                        NaN                        NaN   \n",
       "1451                       NaN                        NaN   \n",
       "\n",
       "                                          expanded_urls  rating_numerator  \\\n",
       "921   https://twitter.com/dog_rates/status/756288534...                12   \n",
       "1938  https://twitter.com/dog_rates/status/673906403...                 3   \n",
       "1379  https://twitter.com/dog_rates/status/701545186...                10   \n",
       "774   https://twitter.com/dog_rates/status/776218204...                13   \n",
       "1451  https://twitter.com/dog_rates/status/695794761...                13   \n",
       "\n",
       "      rating_denominator    name doggo  floofer  pupper puppo  \n",
       "921                   10    None  None     None    None  None  \n",
       "1938                  10    None  None     None    None  None  \n",
       "1379                  10  Millie  None     None  pupper  None  \n",
       "774                   10    None  None  floofer    None  None  \n",
       "1451                  10   Wyatt  None     None    None  None  "
      ]
     },
     "execution_count": 6,
     "metadata": {},
     "output_type": "execute_result"
    }
   ],
   "source": [
    "wrt_df.sample(5)"
   ]
  },
  {
   "cell_type": "code",
   "execution_count": 7,
   "metadata": {},
   "outputs": [
    {
     "data": {
      "text/html": [
       "<div>\n",
       "<style scoped>\n",
       "    .dataframe tbody tr th:only-of-type {\n",
       "        vertical-align: middle;\n",
       "    }\n",
       "\n",
       "    .dataframe tbody tr th {\n",
       "        vertical-align: top;\n",
       "    }\n",
       "\n",
       "    .dataframe thead th {\n",
       "        text-align: right;\n",
       "    }\n",
       "</style>\n",
       "<table border=\"1\" class=\"dataframe\">\n",
       "  <thead>\n",
       "    <tr style=\"text-align: right;\">\n",
       "      <th></th>\n",
       "      <th>tweet_id</th>\n",
       "      <th>jpg_url</th>\n",
       "      <th>img_num</th>\n",
       "      <th>p1</th>\n",
       "      <th>p1_conf</th>\n",
       "      <th>p1_dog</th>\n",
       "      <th>p2</th>\n",
       "      <th>p2_conf</th>\n",
       "      <th>p2_dog</th>\n",
       "      <th>p3</th>\n",
       "      <th>p3_conf</th>\n",
       "      <th>p3_dog</th>\n",
       "    </tr>\n",
       "  </thead>\n",
       "  <tbody>\n",
       "    <tr>\n",
       "      <th>471</th>\n",
       "      <td>675135153782571009</td>\n",
       "      <td>https://pbs.twimg.com/media/CV6P1lnWIAAUQHk.jpg</td>\n",
       "      <td>1</td>\n",
       "      <td>stove</td>\n",
       "      <td>0.587507</td>\n",
       "      <td>False</td>\n",
       "      <td>rotisserie</td>\n",
       "      <td>0.051713</td>\n",
       "      <td>False</td>\n",
       "      <td>microwave</td>\n",
       "      <td>0.020725</td>\n",
       "      <td>False</td>\n",
       "    </tr>\n",
       "    <tr>\n",
       "      <th>839</th>\n",
       "      <td>694356675654983680</td>\n",
       "      <td>https://pbs.twimg.com/media/CaLZtmsWQAApbFw.jpg</td>\n",
       "      <td>1</td>\n",
       "      <td>hamster</td>\n",
       "      <td>0.429871</td>\n",
       "      <td>False</td>\n",
       "      <td>Pomeranian</td>\n",
       "      <td>0.144272</td>\n",
       "      <td>True</td>\n",
       "      <td>pretzel</td>\n",
       "      <td>0.127220</td>\n",
       "      <td>False</td>\n",
       "    </tr>\n",
       "    <tr>\n",
       "      <th>651</th>\n",
       "      <td>682003177596559360</td>\n",
       "      <td>https://pbs.twimg.com/media/CXb2RcDUsAEnkJb.jpg</td>\n",
       "      <td>1</td>\n",
       "      <td>triceratops</td>\n",
       "      <td>0.249872</td>\n",
       "      <td>False</td>\n",
       "      <td>chimpanzee</td>\n",
       "      <td>0.060929</td>\n",
       "      <td>False</td>\n",
       "      <td>mask</td>\n",
       "      <td>0.050221</td>\n",
       "      <td>False</td>\n",
       "    </tr>\n",
       "    <tr>\n",
       "      <th>1036</th>\n",
       "      <td>711968124745228288</td>\n",
       "      <td>https://pbs.twimg.com/media/CeFrO3qXEAADRbd.jpg</td>\n",
       "      <td>1</td>\n",
       "      <td>espresso</td>\n",
       "      <td>0.430135</td>\n",
       "      <td>False</td>\n",
       "      <td>coffee_mug</td>\n",
       "      <td>0.418483</td>\n",
       "      <td>False</td>\n",
       "      <td>cup</td>\n",
       "      <td>0.088391</td>\n",
       "      <td>False</td>\n",
       "    </tr>\n",
       "    <tr>\n",
       "      <th>1768</th>\n",
       "      <td>827199976799354881</td>\n",
       "      <td>https://pbs.twimg.com/media/C3rN-lcWEAA9CmR.jpg</td>\n",
       "      <td>4</td>\n",
       "      <td>Great_Dane</td>\n",
       "      <td>0.869681</td>\n",
       "      <td>True</td>\n",
       "      <td>American_Staffordshire_terrier</td>\n",
       "      <td>0.026658</td>\n",
       "      <td>True</td>\n",
       "      <td>boxer</td>\n",
       "      <td>0.019866</td>\n",
       "      <td>True</td>\n",
       "    </tr>\n",
       "  </tbody>\n",
       "</table>\n",
       "</div>"
      ],
      "text/plain": [
       "                tweet_id                                          jpg_url  \\\n",
       "471   675135153782571009  https://pbs.twimg.com/media/CV6P1lnWIAAUQHk.jpg   \n",
       "839   694356675654983680  https://pbs.twimg.com/media/CaLZtmsWQAApbFw.jpg   \n",
       "651   682003177596559360  https://pbs.twimg.com/media/CXb2RcDUsAEnkJb.jpg   \n",
       "1036  711968124745228288  https://pbs.twimg.com/media/CeFrO3qXEAADRbd.jpg   \n",
       "1768  827199976799354881  https://pbs.twimg.com/media/C3rN-lcWEAA9CmR.jpg   \n",
       "\n",
       "      img_num           p1   p1_conf  p1_dog                              p2  \\\n",
       "471         1        stove  0.587507   False                      rotisserie   \n",
       "839         1      hamster  0.429871   False                      Pomeranian   \n",
       "651         1  triceratops  0.249872   False                      chimpanzee   \n",
       "1036        1     espresso  0.430135   False                      coffee_mug   \n",
       "1768        4   Great_Dane  0.869681    True  American_Staffordshire_terrier   \n",
       "\n",
       "       p2_conf  p2_dog         p3   p3_conf  p3_dog  \n",
       "471   0.051713   False  microwave  0.020725   False  \n",
       "839   0.144272    True    pretzel  0.127220   False  \n",
       "651   0.060929   False       mask  0.050221   False  \n",
       "1036  0.418483   False        cup  0.088391   False  \n",
       "1768  0.026658    True      boxer  0.019866    True  "
      ]
     },
     "execution_count": 7,
     "metadata": {},
     "output_type": "execute_result"
    }
   ],
   "source": [
    "image_df.sample(5)"
   ]
  },
  {
   "cell_type": "code",
   "execution_count": 8,
   "metadata": {},
   "outputs": [
    {
     "data": {
      "text/html": [
       "<div>\n",
       "<style scoped>\n",
       "    .dataframe tbody tr th:only-of-type {\n",
       "        vertical-align: middle;\n",
       "    }\n",
       "\n",
       "    .dataframe tbody tr th {\n",
       "        vertical-align: top;\n",
       "    }\n",
       "\n",
       "    .dataframe thead th {\n",
       "        text-align: right;\n",
       "    }\n",
       "</style>\n",
       "<table border=\"1\" class=\"dataframe\">\n",
       "  <thead>\n",
       "    <tr style=\"text-align: right;\">\n",
       "      <th></th>\n",
       "      <th>tweet_id</th>\n",
       "      <th>retweets</th>\n",
       "      <th>favorites</th>\n",
       "    </tr>\n",
       "  </thead>\n",
       "  <tbody>\n",
       "    <tr>\n",
       "      <th>160</th>\n",
       "      <td>859851578198683649</td>\n",
       "      <td>3206</td>\n",
       "      <td>14412</td>\n",
       "    </tr>\n",
       "    <tr>\n",
       "      <th>849</th>\n",
       "      <td>761599872357261312</td>\n",
       "      <td>1151</td>\n",
       "      <td>4007</td>\n",
       "    </tr>\n",
       "    <tr>\n",
       "      <th>107</th>\n",
       "      <td>871032628920680449</td>\n",
       "      <td>3370</td>\n",
       "      <td>20853</td>\n",
       "    </tr>\n",
       "    <tr>\n",
       "      <th>1232</th>\n",
       "      <td>710588934686908417</td>\n",
       "      <td>1772</td>\n",
       "      <td>4349</td>\n",
       "    </tr>\n",
       "    <tr>\n",
       "      <th>1350</th>\n",
       "      <td>701952816642965504</td>\n",
       "      <td>979</td>\n",
       "      <td>3692</td>\n",
       "    </tr>\n",
       "  </tbody>\n",
       "</table>\n",
       "</div>"
      ],
      "text/plain": [
       "                tweet_id retweets favorites\n",
       "160   859851578198683649     3206     14412\n",
       "849   761599872357261312     1151      4007\n",
       "107   871032628920680449     3370     20853\n",
       "1232  710588934686908417     1772      4349\n",
       "1350  701952816642965504      979      3692"
      ]
     },
     "execution_count": 8,
     "metadata": {},
     "output_type": "execute_result"
    }
   ],
   "source": [
    "tweets_df.sample(5)"
   ]
  },
  {
   "cell_type": "code",
   "execution_count": 9,
   "metadata": {},
   "outputs": [
    {
     "name": "stdout",
     "output_type": "stream",
     "text": [
      "<class 'pandas.core.frame.DataFrame'>\n",
      "RangeIndex: 2356 entries, 0 to 2355\n",
      "Data columns (total 17 columns):\n",
      "tweet_id                      2356 non-null int64\n",
      "in_reply_to_status_id         78 non-null float64\n",
      "in_reply_to_user_id           78 non-null float64\n",
      "timestamp                     2356 non-null object\n",
      "source                        2356 non-null object\n",
      "text                          2356 non-null object\n",
      "retweeted_status_id           181 non-null float64\n",
      "retweeted_status_user_id      181 non-null float64\n",
      "retweeted_status_timestamp    181 non-null object\n",
      "expanded_urls                 2297 non-null object\n",
      "rating_numerator              2356 non-null int64\n",
      "rating_denominator            2356 non-null int64\n",
      "name                          2356 non-null object\n",
      "doggo                         2356 non-null object\n",
      "floofer                       2356 non-null object\n",
      "pupper                        2356 non-null object\n",
      "puppo                         2356 non-null object\n",
      "dtypes: float64(4), int64(3), object(10)\n",
      "memory usage: 313.0+ KB\n"
     ]
    }
   ],
   "source": [
    "wrt_df.info()"
   ]
  },
  {
   "cell_type": "code",
   "execution_count": 10,
   "metadata": {},
   "outputs": [
    {
     "name": "stdout",
     "output_type": "stream",
     "text": [
      "<class 'pandas.core.frame.DataFrame'>\n",
      "RangeIndex: 2075 entries, 0 to 2074\n",
      "Data columns (total 12 columns):\n",
      "tweet_id    2075 non-null int64\n",
      "jpg_url     2075 non-null object\n",
      "img_num     2075 non-null int64\n",
      "p1          2075 non-null object\n",
      "p1_conf     2075 non-null float64\n",
      "p1_dog      2075 non-null bool\n",
      "p2          2075 non-null object\n",
      "p2_conf     2075 non-null float64\n",
      "p2_dog      2075 non-null bool\n",
      "p3          2075 non-null object\n",
      "p3_conf     2075 non-null float64\n",
      "p3_dog      2075 non-null bool\n",
      "dtypes: bool(3), float64(3), int64(2), object(4)\n",
      "memory usage: 152.1+ KB\n"
     ]
    }
   ],
   "source": [
    "image_df.info()"
   ]
  },
  {
   "cell_type": "code",
   "execution_count": 11,
   "metadata": {},
   "outputs": [
    {
     "name": "stdout",
     "output_type": "stream",
     "text": [
      "<class 'pandas.core.frame.DataFrame'>\n",
      "RangeIndex: 2331 entries, 0 to 2330\n",
      "Data columns (total 3 columns):\n",
      "tweet_id     2331 non-null object\n",
      "retweets     2331 non-null object\n",
      "favorites    2331 non-null object\n",
      "dtypes: object(3)\n",
      "memory usage: 54.7+ KB\n"
     ]
    }
   ],
   "source": [
    "tweets_df.info()"
   ]
  },
  {
   "cell_type": "code",
   "execution_count": 12,
   "metadata": {},
   "outputs": [
    {
     "data": {
      "text/plain": [
       "golden_retriever             150\n",
       "Labrador_retriever           100\n",
       "Pembroke                      89\n",
       "Chihuahua                     83\n",
       "pug                           57\n",
       "chow                          44\n",
       "Samoyed                       43\n",
       "toy_poodle                    39\n",
       "Pomeranian                    38\n",
       "cocker_spaniel                30\n",
       "malamute                      30\n",
       "French_bulldog                26\n",
       "miniature_pinscher            23\n",
       "Chesapeake_Bay_retriever      23\n",
       "seat_belt                     22\n",
       "Staffordshire_bullterrier     20\n",
       "German_shepherd               20\n",
       "Siberian_husky                20\n",
       "Cardigan                      19\n",
       "web_site                      19\n",
       "Maltese_dog                   18\n",
       "Eskimo_dog                    18\n",
       "beagle                        18\n",
       "Shetland_sheepdog             18\n",
       "teddy                         18\n",
       "Shih-Tzu                      17\n",
       "Lakeland_terrier              17\n",
       "Rottweiler                    17\n",
       "Italian_greyhound             16\n",
       "kuvasz                        16\n",
       "                            ... \n",
       "carousel                       1\n",
       "coffee_mug                     1\n",
       "syringe                        1\n",
       "bookcase                       1\n",
       "African_crocodile              1\n",
       "coil                           1\n",
       "leaf_beetle                    1\n",
       "sea_urchin                     1\n",
       "remote_control                 1\n",
       "fountain                       1\n",
       "banana                         1\n",
       "orange                         1\n",
       "otter                          1\n",
       "park_bench                     1\n",
       "microphone                     1\n",
       "lion                           1\n",
       "swab                           1\n",
       "alp                            1\n",
       "standard_schnauzer             1\n",
       "dhole                          1\n",
       "cheetah                        1\n",
       "mailbox                        1\n",
       "cuirass                        1\n",
       "bib                            1\n",
       "cowboy_boot                    1\n",
       "microwave                      1\n",
       "timber_wolf                    1\n",
       "four-poster                    1\n",
       "radio_telescope                1\n",
       "sulphur-crested_cockatoo       1\n",
       "Name: p1, Length: 378, dtype: int64"
      ]
     },
     "execution_count": 12,
     "metadata": {},
     "output_type": "execute_result"
    }
   ],
   "source": [
    "image_df.p1.value_counts()"
   ]
  },
  {
   "cell_type": "code",
   "execution_count": 13,
   "metadata": {},
   "outputs": [
    {
     "data": {
      "text/plain": [
       "12      558\n",
       "11      464\n",
       "10      461\n",
       "13      351\n",
       "9       158\n",
       "8       102\n",
       "7        55\n",
       "14       54\n",
       "5        37\n",
       "6        32\n",
       "3        19\n",
       "4        17\n",
       "1         9\n",
       "2         9\n",
       "420       2\n",
       "0         2\n",
       "15        2\n",
       "75        2\n",
       "80        1\n",
       "20        1\n",
       "24        1\n",
       "26        1\n",
       "44        1\n",
       "50        1\n",
       "60        1\n",
       "165       1\n",
       "84        1\n",
       "88        1\n",
       "144       1\n",
       "182       1\n",
       "143       1\n",
       "666       1\n",
       "960       1\n",
       "1776      1\n",
       "17        1\n",
       "27        1\n",
       "45        1\n",
       "99        1\n",
       "121       1\n",
       "204       1\n",
       "Name: rating_numerator, dtype: int64"
      ]
     },
     "execution_count": 13,
     "metadata": {},
     "output_type": "execute_result"
    }
   ],
   "source": [
    "wrt_df.rating_numerator.value_counts()"
   ]
  },
  {
   "cell_type": "code",
   "execution_count": 14,
   "metadata": {},
   "outputs": [
    {
     "data": {
      "text/plain": [
       "None        745\n",
       "a            55\n",
       "Charlie      12\n",
       "Cooper       11\n",
       "Lucy         11\n",
       "Oliver       11\n",
       "Lola         10\n",
       "Tucker       10\n",
       "Penny        10\n",
       "Bo            9\n",
       "Winston       9\n",
       "the           8\n",
       "Sadie         8\n",
       "Buddy         7\n",
       "Toby          7\n",
       "Daisy         7\n",
       "an            7\n",
       "Bailey        7\n",
       "Koda          6\n",
       "Milo          6\n",
       "Dave          6\n",
       "Jax           6\n",
       "Oscar         6\n",
       "Rusty         6\n",
       "Leo           6\n",
       "Stanley       6\n",
       "Jack          6\n",
       "Scout         6\n",
       "Bella         6\n",
       "Sunny         5\n",
       "           ... \n",
       "Combo         1\n",
       "Shiloh        1\n",
       "Simba         1\n",
       "Sparky        1\n",
       "Mo            1\n",
       "Jeffrie       1\n",
       "Einstein      1\n",
       "Dudley        1\n",
       "Lili          1\n",
       "Hazel         1\n",
       "Tedrick       1\n",
       "Ben           1\n",
       "Winifred      1\n",
       "Nida          1\n",
       "Georgie       1\n",
       "Ambrose       1\n",
       "Brudge        1\n",
       "Mabel         1\n",
       "Glacier       1\n",
       "Cedrick       1\n",
       "Lucky         1\n",
       "Derby         1\n",
       "Mike          1\n",
       "Trigger       1\n",
       "Holly         1\n",
       "Jomathan      1\n",
       "Molly         1\n",
       "DonDon        1\n",
       "Geno          1\n",
       "Grady         1\n",
       "Name: name, Length: 957, dtype: int64"
      ]
     },
     "execution_count": 14,
     "metadata": {},
     "output_type": "execute_result"
    }
   ],
   "source": [
    "wrt_df.name.value_counts()"
   ]
  },
  {
   "cell_type": "markdown",
   "metadata": {},
   "source": [
    "### Quality:\n",
    "#### wrt_df\n",
    "- some rows are replies/retweets to tweets (not original tweets)\n",
    "- extra not useful columns (retweeted_status_id etc.)\n",
    "- timestamp should be datetype\n",
    "- tweet_id is int64 but should be string\n",
    "- incorrect dog names ('very', 'the' etc.)\n",
    "- ratings are int64 but should be floats to preserve decimals\n",
    "\n",
    "#### image_df\n",
    "- tweet_id is int64 but should be string\n",
    "- extra not useful columns \n",
    "- underscores in dog names that are 2 words\n",
    "\n",
    "#### tweets_df\n",
    "- tweet_id is int64 but should be string\n",
    "- retweets and favorite counts are objects (strings)\n",
    "\n",
    "### Tidiness:\n",
    "- dog types (floofer etc.) should be a single column (columns headers should not be values)\n",
    "- some rating numerator and denominator should be 1 combined value"
   ]
  },
  {
   "cell_type": "markdown",
   "metadata": {},
   "source": [
    "## Cleaning"
   ]
  },
  {
   "cell_type": "code",
   "execution_count": 15,
   "metadata": {},
   "outputs": [],
   "source": [
    "# Making copies of each df to clean with\n",
    "wrt_df_copy = wrt_df.copy()\n",
    "image_df_copy = image_df.copy()\n",
    "tweets_df_copy = tweets_df.copy()"
   ]
  },
  {
   "cell_type": "markdown",
   "metadata": {},
   "source": [
    "### Quality Issue 1: \n",
    "\n",
    "#### Some rows are replies/retweets to tweets (not original tweets)\n",
    "\n",
    "#### Define\n",
    "\n",
    "Remove rows that are replies and/or retweet"
   ]
  },
  {
   "cell_type": "markdown",
   "metadata": {},
   "source": [
    "#### Code"
   ]
  },
  {
   "cell_type": "code",
   "execution_count": 16,
   "metadata": {},
   "outputs": [],
   "source": [
    "wrt_df_copy = wrt_df_copy[wrt_df_copy.in_reply_to_status_id.isna()]\n",
    "wrt_df_copy = wrt_df_copy[wrt_df_copy.in_reply_to_user_id.isna()]\n",
    "wrt_df_copy = wrt_df_copy[wrt_df_copy.retweeted_status_id.isna()]\n",
    "wrt_df_copy = wrt_df_copy[wrt_df_copy.retweeted_status_user_id.isna()]\n",
    "wrt_df_copy = wrt_df_copy[wrt_df_copy.retweeted_status_timestamp.isna()]\n",
    "\n",
    "wrt_df_copy = wrt_df_copy.drop(['in_reply_to_status_id', 'in_reply_to_user_id', 'retweeted_status_id', 'retweeted_status_user_id', 'retweeted_status_timestamp'], axis=1)"
   ]
  },
  {
   "cell_type": "markdown",
   "metadata": {},
   "source": [
    "#### Test"
   ]
  },
  {
   "cell_type": "code",
   "execution_count": 17,
   "metadata": {},
   "outputs": [
    {
     "name": "stdout",
     "output_type": "stream",
     "text": [
      "<class 'pandas.core.frame.DataFrame'>\n",
      "Int64Index: 2097 entries, 0 to 2355\n",
      "Data columns (total 12 columns):\n",
      "tweet_id              2097 non-null int64\n",
      "timestamp             2097 non-null object\n",
      "source                2097 non-null object\n",
      "text                  2097 non-null object\n",
      "expanded_urls         2094 non-null object\n",
      "rating_numerator      2097 non-null int64\n",
      "rating_denominator    2097 non-null int64\n",
      "name                  2097 non-null object\n",
      "doggo                 2097 non-null object\n",
      "floofer               2097 non-null object\n",
      "pupper                2097 non-null object\n",
      "puppo                 2097 non-null object\n",
      "dtypes: int64(3), object(9)\n",
      "memory usage: 213.0+ KB\n"
     ]
    }
   ],
   "source": [
    "wrt_df_copy.info()"
   ]
  },
  {
   "cell_type": "markdown",
   "metadata": {},
   "source": [
    "### Quality Issue 2: \n",
    "\n",
    "####  Extra not useful columns in wrt_df\n",
    "\n",
    "#### Define\n",
    "\n",
    "Drop columns that are not useful (source, URLs) in wrt_df"
   ]
  },
  {
   "cell_type": "markdown",
   "metadata": {},
   "source": [
    "#### Code"
   ]
  },
  {
   "cell_type": "code",
   "execution_count": 18,
   "metadata": {},
   "outputs": [],
   "source": [
    "wrt_df_copy = wrt_df_copy.drop(['source', 'expanded_urls'], axis=1)"
   ]
  },
  {
   "cell_type": "markdown",
   "metadata": {},
   "source": [
    "#### Test"
   ]
  },
  {
   "cell_type": "code",
   "execution_count": 19,
   "metadata": {},
   "outputs": [
    {
     "name": "stdout",
     "output_type": "stream",
     "text": [
      "<class 'pandas.core.frame.DataFrame'>\n",
      "Int64Index: 2097 entries, 0 to 2355\n",
      "Data columns (total 10 columns):\n",
      "tweet_id              2097 non-null int64\n",
      "timestamp             2097 non-null object\n",
      "text                  2097 non-null object\n",
      "rating_numerator      2097 non-null int64\n",
      "rating_denominator    2097 non-null int64\n",
      "name                  2097 non-null object\n",
      "doggo                 2097 non-null object\n",
      "floofer               2097 non-null object\n",
      "pupper                2097 non-null object\n",
      "puppo                 2097 non-null object\n",
      "dtypes: int64(3), object(7)\n",
      "memory usage: 180.2+ KB\n"
     ]
    }
   ],
   "source": [
    "wrt_df_copy.info()"
   ]
  },
  {
   "cell_type": "markdown",
   "metadata": {},
   "source": [
    "### Quality Issue 3: \n",
    "\n",
    "#### Timestamp should be datetype\n",
    "\n",
    "#### Define\n",
    "\n",
    "Timestamp is currently object (string).  Should be datetype"
   ]
  },
  {
   "cell_type": "markdown",
   "metadata": {},
   "source": [
    "#### Code"
   ]
  },
  {
   "cell_type": "code",
   "execution_count": 20,
   "metadata": {},
   "outputs": [],
   "source": [
    "wrt_df_copy.timestamp = wrt_df_copy.timestamp.str.slice(0,-6)\n",
    "wrt_df_copy.timestamp = pd.to_datetime(wrt_df_copy.timestamp, format='%Y-%m-%d %H:%M:%S')"
   ]
  },
  {
   "cell_type": "markdown",
   "metadata": {},
   "source": [
    "#### Test"
   ]
  },
  {
   "cell_type": "code",
   "execution_count": 21,
   "metadata": {},
   "outputs": [
    {
     "name": "stdout",
     "output_type": "stream",
     "text": [
      "<class 'pandas.core.frame.DataFrame'>\n",
      "Int64Index: 2097 entries, 0 to 2355\n",
      "Data columns (total 10 columns):\n",
      "tweet_id              2097 non-null int64\n",
      "timestamp             2097 non-null datetime64[ns]\n",
      "text                  2097 non-null object\n",
      "rating_numerator      2097 non-null int64\n",
      "rating_denominator    2097 non-null int64\n",
      "name                  2097 non-null object\n",
      "doggo                 2097 non-null object\n",
      "floofer               2097 non-null object\n",
      "pupper                2097 non-null object\n",
      "puppo                 2097 non-null object\n",
      "dtypes: datetime64[ns](1), int64(3), object(6)\n",
      "memory usage: 180.2+ KB\n"
     ]
    }
   ],
   "source": [
    "wrt_df_copy.info()"
   ]
  },
  {
   "cell_type": "markdown",
   "metadata": {},
   "source": [
    "### Quality Issue 4: \n",
    "\n",
    "#### Tweet_id is int64 but should be string\n",
    "\n",
    "#### Define\n",
    "\n",
    "Tweet IDs should all be string types to be able to join them"
   ]
  },
  {
   "cell_type": "markdown",
   "metadata": {},
   "source": [
    "#### Code"
   ]
  },
  {
   "cell_type": "code",
   "execution_count": 22,
   "metadata": {},
   "outputs": [],
   "source": [
    "wrt_df_copy.tweet_id = wrt_df_copy.tweet_id.astype(str)\n",
    "image_df_copy.tweet_id = image_df_copy.tweet_id.astype(str)\n",
    "tweets_df_copy.tweet_id = tweets_df_copy.tweet_id.astype(str)"
   ]
  },
  {
   "cell_type": "markdown",
   "metadata": {},
   "source": [
    "#### Test"
   ]
  },
  {
   "cell_type": "code",
   "execution_count": 23,
   "metadata": {},
   "outputs": [
    {
     "name": "stdout",
     "output_type": "stream",
     "text": [
      "<class 'pandas.core.frame.DataFrame'>\n",
      "Int64Index: 2097 entries, 0 to 2355\n",
      "Data columns (total 10 columns):\n",
      "tweet_id              2097 non-null object\n",
      "timestamp             2097 non-null datetime64[ns]\n",
      "text                  2097 non-null object\n",
      "rating_numerator      2097 non-null int64\n",
      "rating_denominator    2097 non-null int64\n",
      "name                  2097 non-null object\n",
      "doggo                 2097 non-null object\n",
      "floofer               2097 non-null object\n",
      "pupper                2097 non-null object\n",
      "puppo                 2097 non-null object\n",
      "dtypes: datetime64[ns](1), int64(2), object(7)\n",
      "memory usage: 180.2+ KB\n"
     ]
    }
   ],
   "source": [
    "wrt_df_copy.info()"
   ]
  },
  {
   "cell_type": "code",
   "execution_count": 24,
   "metadata": {},
   "outputs": [
    {
     "name": "stdout",
     "output_type": "stream",
     "text": [
      "<class 'pandas.core.frame.DataFrame'>\n",
      "RangeIndex: 2075 entries, 0 to 2074\n",
      "Data columns (total 12 columns):\n",
      "tweet_id    2075 non-null object\n",
      "jpg_url     2075 non-null object\n",
      "img_num     2075 non-null int64\n",
      "p1          2075 non-null object\n",
      "p1_conf     2075 non-null float64\n",
      "p1_dog      2075 non-null bool\n",
      "p2          2075 non-null object\n",
      "p2_conf     2075 non-null float64\n",
      "p2_dog      2075 non-null bool\n",
      "p3          2075 non-null object\n",
      "p3_conf     2075 non-null float64\n",
      "p3_dog      2075 non-null bool\n",
      "dtypes: bool(3), float64(3), int64(1), object(5)\n",
      "memory usage: 152.1+ KB\n"
     ]
    }
   ],
   "source": [
    "image_df_copy.info()"
   ]
  },
  {
   "cell_type": "code",
   "execution_count": 25,
   "metadata": {},
   "outputs": [
    {
     "name": "stdout",
     "output_type": "stream",
     "text": [
      "<class 'pandas.core.frame.DataFrame'>\n",
      "RangeIndex: 2331 entries, 0 to 2330\n",
      "Data columns (total 3 columns):\n",
      "tweet_id     2331 non-null object\n",
      "retweets     2331 non-null object\n",
      "favorites    2331 non-null object\n",
      "dtypes: object(3)\n",
      "memory usage: 54.7+ KB\n"
     ]
    }
   ],
   "source": [
    "tweets_df_copy.info()"
   ]
  },
  {
   "cell_type": "markdown",
   "metadata": {},
   "source": [
    "### Quality Issue 5: \n",
    "\n",
    "#### Extra not useful columns in image_df\n",
    "\n",
    "#### Define\n",
    "\n",
    "In image_df, jpg_url and img_num have no use and can be dropped"
   ]
  },
  {
   "cell_type": "markdown",
   "metadata": {},
   "source": [
    "#### Code"
   ]
  },
  {
   "cell_type": "code",
   "execution_count": 26,
   "metadata": {},
   "outputs": [],
   "source": [
    "image_df_copy = image_df_copy.drop(['jpg_url', 'img_num'], axis=1)"
   ]
  },
  {
   "cell_type": "markdown",
   "metadata": {},
   "source": [
    "#### Test"
   ]
  },
  {
   "cell_type": "code",
   "execution_count": 27,
   "metadata": {},
   "outputs": [
    {
     "name": "stdout",
     "output_type": "stream",
     "text": [
      "<class 'pandas.core.frame.DataFrame'>\n",
      "RangeIndex: 2075 entries, 0 to 2074\n",
      "Data columns (total 10 columns):\n",
      "tweet_id    2075 non-null object\n",
      "p1          2075 non-null object\n",
      "p1_conf     2075 non-null float64\n",
      "p1_dog      2075 non-null bool\n",
      "p2          2075 non-null object\n",
      "p2_conf     2075 non-null float64\n",
      "p2_dog      2075 non-null bool\n",
      "p3          2075 non-null object\n",
      "p3_conf     2075 non-null float64\n",
      "p3_dog      2075 non-null bool\n",
      "dtypes: bool(3), float64(3), object(4)\n",
      "memory usage: 119.6+ KB\n"
     ]
    }
   ],
   "source": [
    "image_df_copy.info()"
   ]
  },
  {
   "cell_type": "markdown",
   "metadata": {},
   "source": [
    "### Quality Issue 6: \n",
    "\n",
    "#### Incorrect dog names ('very', 'the' etc.)\n",
    "\n",
    "#### Define\n",
    "\n",
    "If dog name is present, there exists a capital letters.  Change all lowercase dog names to null"
   ]
  },
  {
   "cell_type": "markdown",
   "metadata": {},
   "source": [
    "#### Code"
   ]
  },
  {
   "cell_type": "code",
   "execution_count": 28,
   "metadata": {},
   "outputs": [],
   "source": [
    "wrt_df_copy.name = wrt_df_copy.name.mask(wrt_df_copy.name.str.match(r'^[a-z]+$')) "
   ]
  },
  {
   "cell_type": "markdown",
   "metadata": {},
   "source": [
    "#### Test"
   ]
  },
  {
   "cell_type": "code",
   "execution_count": 29,
   "metadata": {},
   "outputs": [
    {
     "data": {
      "text/plain": [
       "None          603\n",
       "Lucy           11\n",
       "Charlie        11\n",
       "Oliver         10\n",
       "Cooper         10\n",
       "Tucker          9\n",
       "Penny           9\n",
       "Lola            8\n",
       "Sadie           8\n",
       "Winston         8\n",
       "Toby            7\n",
       "Daisy           7\n",
       "Bo              6\n",
       "Bailey          6\n",
       "Oscar           6\n",
       "Koda            6\n",
       "Jax             6\n",
       "Stanley         6\n",
       "Bella           6\n",
       "Chester         5\n",
       "Dave            5\n",
       "Buddy           5\n",
       "Louis           5\n",
       "Scout           5\n",
       "Bentley         5\n",
       "Leo             5\n",
       "Rusty           5\n",
       "Milo            5\n",
       "Duke            4\n",
       "Alfie           4\n",
       "             ... \n",
       "Pablo           1\n",
       "Jareld          1\n",
       "Longfellow      1\n",
       "Ashleigh        1\n",
       "Lucky           1\n",
       "Glacier         1\n",
       "Strider         1\n",
       "Lili            1\n",
       "Adele           1\n",
       "Miley           1\n",
       "Pluto           1\n",
       "Toffee          1\n",
       "Mattie          1\n",
       "Ferg            1\n",
       "Marlee          1\n",
       "Kane            1\n",
       "Comet           1\n",
       "Lorelei         1\n",
       "Laela           1\n",
       "Colin           1\n",
       "Hazel           1\n",
       "Tedrick         1\n",
       "Ben             1\n",
       "Winifred        1\n",
       "Nida            1\n",
       "Georgie         1\n",
       "Ambrose         1\n",
       "Brudge          1\n",
       "Mabel           1\n",
       "Grady           1\n",
       "Name: name, Length: 930, dtype: int64"
      ]
     },
     "execution_count": 29,
     "metadata": {},
     "output_type": "execute_result"
    }
   ],
   "source": [
    "wrt_df_copy.name.value_counts()"
   ]
  },
  {
   "cell_type": "markdown",
   "metadata": {},
   "source": [
    "### Quality Issue 7: \n",
    "\n",
    "#### Underscores in dog names that are 2+ words\n",
    "\n",
    "#### Define\n",
    "\n",
    "Dog breeds with 2 names (ie. golden retriver) have an redundant underscore in the space"
   ]
  },
  {
   "cell_type": "markdown",
   "metadata": {},
   "source": [
    "#### Code"
   ]
  },
  {
   "cell_type": "code",
   "execution_count": 30,
   "metadata": {},
   "outputs": [],
   "source": [
    "image_df_copy['p1'] = image_df_copy.p1.str.replace('_', ' ')"
   ]
  },
  {
   "cell_type": "markdown",
   "metadata": {},
   "source": [
    "#### Test"
   ]
  },
  {
   "cell_type": "code",
   "execution_count": 31,
   "metadata": {},
   "outputs": [
    {
     "data": {
      "text/plain": [
       "golden retriever             150\n",
       "Labrador retriever           100\n",
       "Pembroke                      89\n",
       "Chihuahua                     83\n",
       "pug                           57\n",
       "chow                          44\n",
       "Samoyed                       43\n",
       "toy poodle                    39\n",
       "Pomeranian                    38\n",
       "malamute                      30\n",
       "cocker spaniel                30\n",
       "French bulldog                26\n",
       "Chesapeake Bay retriever      23\n",
       "miniature pinscher            23\n",
       "seat belt                     22\n",
       "German shepherd               20\n",
       "Siberian husky                20\n",
       "Staffordshire bullterrier     20\n",
       "web site                      19\n",
       "Cardigan                      19\n",
       "beagle                        18\n",
       "Shetland sheepdog             18\n",
       "Maltese dog                   18\n",
       "Eskimo dog                    18\n",
       "teddy                         18\n",
       "Shih-Tzu                      17\n",
       "Lakeland terrier              17\n",
       "Rottweiler                    17\n",
       "kuvasz                        16\n",
       "Italian greyhound             16\n",
       "                            ... \n",
       "bison                          1\n",
       "trombone                       1\n",
       "mailbox                        1\n",
       "polecat                        1\n",
       "king penguin                   1\n",
       "slug                           1\n",
       "dhole                          1\n",
       "school bus                     1\n",
       "cheetah                        1\n",
       "otter                          1\n",
       "three-toed sloth               1\n",
       "fiddler crab                   1\n",
       "American black bear            1\n",
       "coho                           1\n",
       "ice lolly                      1\n",
       "china cabinet                  1\n",
       "desktop computer               1\n",
       "soccer ball                    1\n",
       "pot                            1\n",
       "military uniform               1\n",
       "grille                         1\n",
       "carton                         1\n",
       "radio telescope                1\n",
       "terrapin                       1\n",
       "bookcase                       1\n",
       "pool table                     1\n",
       "sunglasses                     1\n",
       "tiger shark                    1\n",
       "tricycle                       1\n",
       "fountain                       1\n",
       "Name: p1, Length: 378, dtype: int64"
      ]
     },
     "execution_count": 31,
     "metadata": {},
     "output_type": "execute_result"
    }
   ],
   "source": [
    "image_df_copy.p1.value_counts()"
   ]
  },
  {
   "cell_type": "markdown",
   "metadata": {},
   "source": [
    "### Quality Issue 8: \n",
    "\n",
    "#### Retweets and favorite counts are objects (strings) in tweets_df\n",
    "\n",
    "#### Define\n",
    "\n",
    "Retweets and favorites should be integers but are currently strings"
   ]
  },
  {
   "cell_type": "markdown",
   "metadata": {},
   "source": [
    "#### Code"
   ]
  },
  {
   "cell_type": "code",
   "execution_count": 32,
   "metadata": {},
   "outputs": [],
   "source": [
    "tweets_df_copy.retweets = tweets_df_copy.retweets.astype('int64')\n",
    "tweets_df_copy.favorites = tweets_df_copy.favorites.astype('int64')"
   ]
  },
  {
   "cell_type": "markdown",
   "metadata": {},
   "source": [
    "#### Test"
   ]
  },
  {
   "cell_type": "code",
   "execution_count": 33,
   "metadata": {},
   "outputs": [
    {
     "name": "stdout",
     "output_type": "stream",
     "text": [
      "<class 'pandas.core.frame.DataFrame'>\n",
      "RangeIndex: 2331 entries, 0 to 2330\n",
      "Data columns (total 3 columns):\n",
      "tweet_id     2331 non-null object\n",
      "retweets     2331 non-null int64\n",
      "favorites    2331 non-null int64\n",
      "dtypes: int64(2), object(1)\n",
      "memory usage: 54.7+ KB\n"
     ]
    }
   ],
   "source": [
    "tweets_df_copy.info()"
   ]
  },
  {
   "cell_type": "markdown",
   "metadata": {},
   "source": [
    "### Quality Issue 9: \n",
    "\n",
    "#### Ratings are int64 but should be floats to rpeserve decimals\n",
    "\n",
    "#### Define\n",
    "\n",
    "Ratings will need to be re-extracted from the tweet text to keep the float datatype"
   ]
  },
  {
   "cell_type": "markdown",
   "metadata": {},
   "source": [
    "#### Code"
   ]
  },
  {
   "cell_type": "code",
   "execution_count": 34,
   "metadata": {},
   "outputs": [],
   "source": [
    "rating = wrt_df_copy.text.str.extract('((?:\\d+\\.)?\\d+)\\/(\\d+)', expand=True)\n",
    "rating.columns = ['rating_numerator', 'rating_denominator']\n",
    "rating = rating.astype('float')"
   ]
  },
  {
   "cell_type": "code",
   "execution_count": 35,
   "metadata": {},
   "outputs": [],
   "source": [
    "wrt_df_copy.drop(['rating_numerator', 'rating_denominator'], axis=1, inplace=True)\n",
    "wrt_df_copy = wrt_df_copy.join(rating)"
   ]
  },
  {
   "cell_type": "markdown",
   "metadata": {},
   "source": [
    "#### Test"
   ]
  },
  {
   "cell_type": "code",
   "execution_count": 36,
   "metadata": {},
   "outputs": [
    {
     "data": {
      "text/plain": [
       "12.00      486\n",
       "10.00      436\n",
       "11.00      413\n",
       "13.00      287\n",
       "9.00       153\n",
       "8.00        98\n",
       "7.00        52\n",
       "14.00       38\n",
       "5.00        33\n",
       "6.00        32\n",
       "3.00        19\n",
       "4.00        16\n",
       "2.00         9\n",
       "1.00         5\n",
       "13.50        1\n",
       "0.00         1\n",
       "24.00        1\n",
       "84.00        1\n",
       "420.00       1\n",
       "1776.00      1\n",
       "80.00        1\n",
       "60.00        1\n",
       "44.00        1\n",
       "144.00       1\n",
       "88.00        1\n",
       "11.26        1\n",
       "11.27        1\n",
       "121.00       1\n",
       "9.75         1\n",
       "99.00        1\n",
       "204.00       1\n",
       "45.00        1\n",
       "165.00       1\n",
       "50.00        1\n",
       "Name: rating_numerator, dtype: int64"
      ]
     },
     "execution_count": 36,
     "metadata": {},
     "output_type": "execute_result"
    }
   ],
   "source": [
    "wrt_df_copy.rating_numerator.value_counts()"
   ]
  },
  {
   "cell_type": "markdown",
   "metadata": {},
   "source": [
    "### Tidiness Issue 1: \n",
    "\n",
    "#### Dog types (floofer etc.) should be a single column (columns headers should not be values)\n",
    "\n",
    "#### Define\n",
    "\n",
    "Create a single column with the dog type using the 4 dog type columns"
   ]
  },
  {
   "cell_type": "markdown",
   "metadata": {},
   "source": [
    "#### Code"
   ]
  },
  {
   "cell_type": "code",
   "execution_count": 37,
   "metadata": {},
   "outputs": [],
   "source": [
    "# Change none to ''\n",
    "wrt_df_copy.doggo.replace('None', '', inplace=True)\n",
    "wrt_df_copy.floofer.replace('None', '', inplace=True)\n",
    "wrt_df_copy.pupper.replace('None', '', inplace=True)\n",
    "wrt_df_copy.puppo.replace('None', '', inplace=True)\n",
    "\n",
    "# merge into column\n",
    "wrt_df_copy['dog_stage'] = wrt_df_copy.doggo + wrt_df_copy.floofer + wrt_df_copy.pupper + wrt_df_copy.puppo\n",
    "\n",
    "# handle multiple stages\n",
    "wrt_df_copy.loc[wrt_df_copy.dog_stage == 'doggopupper', 'dog_stage'] = 'multiple'\n",
    "wrt_df_copy.loc[wrt_df_copy.dog_stage == 'doggopuppo', 'dog_stage'] = 'multiple'\n",
    "wrt_df_copy.loc[wrt_df_copy.dog_stage == 'doggofloofer', 'dog_stage'] = 'multiple'\n",
    "\n",
    "# handle missing values\n",
    "wrt_df_copy.loc[wrt_df_copy.dog_stage == '', 'dog_stage'] = np.nan"
   ]
  },
  {
   "cell_type": "markdown",
   "metadata": {},
   "source": [
    "#### Test"
   ]
  },
  {
   "cell_type": "code",
   "execution_count": 38,
   "metadata": {},
   "outputs": [
    {
     "data": {
      "text/plain": [
       "pupper      221\n",
       "doggo        72\n",
       "puppo        23\n",
       "multiple     11\n",
       "floofer       9\n",
       "Name: dog_stage, dtype: int64"
      ]
     },
     "execution_count": 38,
     "metadata": {},
     "output_type": "execute_result"
    }
   ],
   "source": [
    "wrt_df_copy.dog_stage.value_counts()"
   ]
  },
  {
   "cell_type": "markdown",
   "metadata": {},
   "source": [
    "### Tidiness Issue 2: \n",
    "\n",
    "#### Rating numerator and denominator should be 1 combined value\n",
    "\n",
    "#### Define\n",
    "\n",
    "Individually, numerator and denominator don't provide any insight.  Combine into 1 value"
   ]
  },
  {
   "cell_type": "markdown",
   "metadata": {},
   "source": [
    "#### Code"
   ]
  },
  {
   "cell_type": "code",
   "execution_count": 39,
   "metadata": {},
   "outputs": [
    {
     "name": "stdout",
     "output_type": "stream",
     "text": [
      "<class 'pandas.core.frame.DataFrame'>\n",
      "Int64Index: 2097 entries, 0 to 2355\n",
      "Data columns (total 11 columns):\n",
      "tweet_id              2097 non-null object\n",
      "timestamp             2097 non-null datetime64[ns]\n",
      "text                  2097 non-null object\n",
      "name                  1993 non-null object\n",
      "doggo                 2097 non-null object\n",
      "floofer               2097 non-null object\n",
      "pupper                2097 non-null object\n",
      "puppo                 2097 non-null object\n",
      "rating_numerator      2097 non-null float64\n",
      "rating_denominator    2097 non-null float64\n",
      "dog_stage             336 non-null object\n",
      "dtypes: datetime64[ns](1), float64(2), object(8)\n",
      "memory usage: 276.6+ KB\n"
     ]
    }
   ],
   "source": [
    "wrt_df_copy.info()"
   ]
  },
  {
   "cell_type": "code",
   "execution_count": 40,
   "metadata": {},
   "outputs": [],
   "source": [
    "# Combining rating into single value\n",
    "wrt_df_copy['rating'] = wrt_df_copy.rating_numerator / wrt_df_copy.rating_denominator\n",
    "wrt_df_copy = wrt_df_copy.drop(['rating_denominator', 'rating_numerator'], axis=1)"
   ]
  },
  {
   "cell_type": "markdown",
   "metadata": {},
   "source": [
    "#### Test"
   ]
  },
  {
   "cell_type": "code",
   "execution_count": 41,
   "metadata": {},
   "outputs": [
    {
     "data": {
      "text/plain": [
       "1.200000      490\n",
       "1.000000      438\n",
       "1.100000      418\n",
       "1.300000      287\n",
       "0.900000      153\n",
       "0.800000       98\n",
       "0.700000       51\n",
       "1.400000       38\n",
       "0.500000       34\n",
       "0.600000       32\n",
       "0.300000       19\n",
       "0.400000       15\n",
       "0.200000       10\n",
       "0.100000        4\n",
       "1.350000        1\n",
       "3.428571        1\n",
       "1.127000        1\n",
       "0.636364        1\n",
       "1.126000        1\n",
       "177.600000      1\n",
       "42.000000       1\n",
       "0.975000        1\n",
       "0.000000        1\n",
       "0.818182        1\n",
       "Name: rating, dtype: int64"
      ]
     },
     "execution_count": 41,
     "metadata": {},
     "output_type": "execute_result"
    }
   ],
   "source": [
    "wrt_df_copy.rating.value_counts()"
   ]
  },
  {
   "cell_type": "markdown",
   "metadata": {},
   "source": [
    "## Merging into 1 dataset"
   ]
  },
  {
   "cell_type": "code",
   "execution_count": 42,
   "metadata": {},
   "outputs": [],
   "source": [
    "# Merging df into single df on tweet_id\n",
    "tweets_clean = wrt_df_copy\n",
    "\n",
    "tweets_clean = tweets_clean.join(image_df_copy.set_index('tweet_id'), on='tweet_id')\n",
    "tweets_clean = tweets_clean.join(tweets_df_copy.set_index('tweet_id'), on='tweet_id')"
   ]
  },
  {
   "cell_type": "code",
   "execution_count": 43,
   "metadata": {},
   "outputs": [],
   "source": [
    "# Removing rows without image, prediction or retweets/favorites\n",
    "tweets_clean = tweets_clean[tweets_clean.p1.notnull()]\n",
    "tweets_clean = tweets_clean[tweets_clean.retweets.notnull()]"
   ]
  },
  {
   "cell_type": "code",
   "execution_count": 44,
   "metadata": {},
   "outputs": [],
   "source": [
    "# Exporting to csv\n",
    "tweets_clean.to_csv('twitter_archive_master.csv',index=False)"
   ]
  },
  {
   "cell_type": "markdown",
   "metadata": {},
   "source": [
    "## Visualizing"
   ]
  },
  {
   "cell_type": "code",
   "execution_count": 47,
   "metadata": {},
   "outputs": [
    {
     "data": {
      "image/png": "[encoded data removed]",
      "text/plain": [
       "<matplotlib.figure.Figure at 0x7f87415cf7b8>"
      ]
     },
     "metadata": {
      "needs_background": "light"
     },
     "output_type": "display_data"
    }
   ],
   "source": [
    "# Dog types average retweets and favorites\n",
    "\n",
    "dog_stage_retweet = tweets_clean[tweets_clean.dog_stage.notnull()].groupby('dog_stage').mean().retweets;\n",
    "dog_stage_favorites = tweets_clean[tweets_clean.dog_stage.notnull()].groupby('dog_stage').mean().favorites;\n",
    "\n",
    "dsrf_x = np.arange(len(dog_stage_retweet))\n",
    "width = 0.35\n",
    "\n",
    "ax = plt.subplot(111)\n",
    "\n",
    "ax.bar(dsrf_x - width/2, dog_stage_retweet, width, label='Retweets')\n",
    "ax.bar(dsrf_x + width/2, dog_stage_favorites, width, label='Favorites')\n",
    "ax.set_title('Average Retweets and Favorites for Different Dog Types')\n",
    "ax.set_xlabel('dog type')\n",
    "ax.set_xticks(dsrf_x)\n",
    "ax.set_xticklabels(dog_stage_retweet.index)\n",
    "ax.set_ylabel('average retweet/favorite count')\n",
    "ax.legend()\n",
    "\n",
    "plt.show()"
   ]
  },
  {
   "cell_type": "code",
   "execution_count": 48,
   "metadata": {},
   "outputs": [
    {
     "data": {
      "image/png": "[encoded data removed]",
      "text/plain": [
       "<matplotlib.figure.Figure at 0x7f873f54ccf8>"
      ]
     },
     "metadata": {
      "needs_background": "light"
     },
     "output_type": "display_data"
    }
   ],
   "source": [
    "# Monthly influences on average ratings\n",
    "\n",
    "tweets_clean_month = tweets_clean.drop(979)\n",
    "tweets_clean_month = tweets_clean_month.groupby([tweets_clean_month.timestamp.dt.month]).agg({'rating':np.mean})\n",
    "\n",
    "month_labels = ['Jan', 'Feb', 'Mar', 'Apr', 'May', 'Jun', 'Jul', 'Aug', 'Sep', 'Oct', 'Nov', 'Dec']\n",
    "width = 0.35\n",
    "\n",
    "ax = plt.subplot(111)\n",
    "\n",
    "ax.bar(tweets_clean_month.index-1, tweets_clean_month.rating*10, width)\n",
    "ax.set_title('Average Twitter Dog Rating by Month')\n",
    "ax.set_xlabel('month')\n",
    "ax.set_xticks(np.arange(len(month_labels)))\n",
    "ax.set_xticklabels(month_labels)\n",
    "ax.set_ylabel('rating')\n",
    "ax.set_ylim([9,13])\n",
    "plt.show()"
   ]
  },
  {
   "cell_type": "code",
   "execution_count": 49,
   "metadata": {},
   "outputs": [
    {
     "data": {
      "image/png": "[encoded data removed]",
      "text/plain": [
       "<matplotlib.figure.Figure at 0x7f873f5a8a20>"
      ]
     },
     "metadata": {
      "needs_background": "light"
     },
     "output_type": "display_data"
    }
   ],
   "source": [
    "# Most popular dogs on twitter\n",
    "\n",
    "most_popular_dogs = tweets_clean.p1.value_counts()[:10]\n",
    "\n",
    "most_popular_dogs.plot(kind=\"bar\")\n",
    "plt.xlabel('Dog Breeds')\n",
    "plt.ylabel('Count')\n",
    "plt.title('Most Popular Dog Breeds on WeRateDogs Twitter')\n",
    "\n",
    "plt.show()"
   ]
  },
  {
   "cell_type": "code",
   "execution_count": null,
   "metadata": {},
   "outputs": [],
   "source": []
  }
 ],
 "metadata": {
  "kernelspec": {
   "display_name": "Python 3",
   "language": "python",
   "name": "python3"
  },
  "language_info": {
   "codemirror_mode": {
    "name": "ipython",
    "version": 3
   },
   "file_extension": ".py",
   "mimetype": "text/x-python",
   "name": "python",
   "nbconvert_exporter": "python",
   "pygments_lexer": "ipython3",
   "version": "3.6.3"
  }
 },
 "nbformat": 4,
 "nbformat_minor": 2
}
